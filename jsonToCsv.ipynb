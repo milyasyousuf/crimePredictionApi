{
 "cells": [
  {
   "cell_type": "code",
   "execution_count": 35,
   "metadata": {},
   "outputs": [],
   "source": [
    "import json\n",
    "import pandas as pd"
   ]
  },
  {
   "cell_type": "code",
   "execution_count": 57,
   "metadata": {},
   "outputs": [],
   "source": [
    "identificationOfVehicle = []\n",
    "crimeDate = []\n",
    "casualties = []\n",
    "crimeLng = []\n",
    "crimeLtd = []\n",
    "crimeLocation = []\n",
    "crimeTime = []\n",
    "crimeVictim = [] \n",
    "crimeVehicle = []\n",
    "noOfCriminal = []\n",
    "msr = []\n",
    "typeOfCrime = []\n",
    "Vsr =[]\n",
    "with open('dataset.json') as json_data:\n",
    "    d = json.load(json_data)\n",
    "    for i in d['Questionnaires']:\n",
    "        \n",
    "        identificationOfVehicle.append(d['Questionnaires'][i][' Any Identification of Vehicle'][0])\n",
    "        crimeDate.append(d['Questionnaires'][i]['Crime Date'][0])\n",
    "        casualties.append(d['Questionnaires'][i]['Casualties'][0])\n",
    "        if('Criminal Vehicle' in d['Questionnaires'][i]):\n",
    "            crimeLng.append(d['Questionnaires'][i]['Crime Location'][0])\n",
    "            crimeLtd.append(d['Questionnaires'][i]['Crime Location'][1])\n",
    "            crimeLocation.append(d['Questionnaires'][i]['Crime Location'][2])\n",
    "        else:\n",
    "            crimeLng.append(\"\")\n",
    "            crimeLtd.append(\"\")\n",
    "            crimeLocation.append(\"\")\n",
    "        crimeTime.append(d['Questionnaires'][i]['Crime Time'][0])\n",
    "        crimeVictim.append(d['Questionnaires'][i]['Crime Victim '][0])\n",
    "        noOfCriminal.append(d['Questionnaires'][i]['No of Criminal'][0])\n",
    "        if('Mobile snaching Related' in d['Questionnaires'][i]):\n",
    "            msr.append(d['Questionnaires'][i]['Mobile snaching Related'][0])\n",
    "        else:\n",
    "            msr.append(\"\")\n",
    "        \n",
    "        if('Criminal Vehicle' in d['Questionnaires'][i]):\n",
    "            crimeVehicle.append(d['Questionnaires'][i]['Criminal Vehicle'][0])\n",
    "        else:\n",
    "            crimeVehicle.append(\" \")\n",
    "        typeOfCrime.append(d['Questionnaires'][i]['Type Of Crime'][0])\n",
    "        if('Vehicle snaching Related' in d['Questionnaires'][i]):\n",
    "            Vsr.append(d['Questionnaires'][i]['Vehicle snaching Related'][0])\n",
    "        else:\n",
    "            Vsr.append(\"\")\n",
    "        \n",
    "        \n",
    "        \n",
    "        "
   ]
  },
  {
   "cell_type": "code",
   "execution_count": 58,
   "metadata": {},
   "outputs": [],
   "source": [
    "df = pd.DataFrame()"
   ]
  },
  {
   "cell_type": "code",
   "execution_count": 59,
   "metadata": {},
   "outputs": [],
   "source": [
    "df['identificationOfVehicle'] = identificationOfVehicle\n",
    "df['crimeDate']=crimeDate\n",
    "df['casualties']=casualties\n",
    "df['crimeLng']=crimeLng\n",
    "df['crimeLtd'] = crimeLtd\n",
    "df['crimeLocation'] = crimeLocation\n",
    "df['crimeTime']=crimeTime\n",
    "df['crimeVictim']=crimeVictim\n",
    "df['crimeVehicle']=crimeVehicle\n",
    "df['noOfCriminal']=noOfCriminal\n",
    "df['msr']=msr\n",
    "df['typeOfCrime']=typeOfCrime\n",
    "df['Vsr']=Vsr\n",
    "\n"
   ]
  },
  {
   "cell_type": "code",
   "execution_count": 61,
   "metadata": {},
   "outputs": [],
   "source": [
    "df.to_csv(\"semi_final.csv\",index=False)"
   ]
  },
  {
   "cell_type": "code",
   "execution_count": null,
   "metadata": {},
   "outputs": [],
   "source": []
  }
 ],
 "metadata": {
  "kernelspec": {
   "display_name": "Python 3",
   "language": "python",
   "name": "python3"
  },
  "language_info": {
   "codemirror_mode": {
    "name": "ipython",
    "version": 3
   },
   "file_extension": ".py",
   "mimetype": "text/x-python",
   "name": "python",
   "nbconvert_exporter": "python",
   "pygments_lexer": "ipython3",
   "version": "3.6.3"
  }
 },
 "nbformat": 4,
 "nbformat_minor": 2
}
