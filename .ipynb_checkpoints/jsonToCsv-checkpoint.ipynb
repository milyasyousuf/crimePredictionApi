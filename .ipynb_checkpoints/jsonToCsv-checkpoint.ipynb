{
 "cells": [
  {
   "cell_type": "code",
   "execution_count": 1,
   "metadata": {},
   "outputs": [],
   "source": [
    "import json"
   ]
  },
  {
   "cell_type": "code",
   "execution_count": 31,
   "metadata": {},
   "outputs": [
    {
     "ename": "KeyError",
     "evalue": "'Mobile snaching Related'",
     "output_type": "error",
     "traceback": [
      "\u001b[0;31m---------------------------------------------------------------------------\u001b[0m",
      "\u001b[0;31mKeyError\u001b[0m                                  Traceback (most recent call last)",
      "\u001b[0;32m<ipython-input-31-24d49cbb2bf9>\u001b[0m in \u001b[0;36m<module>\u001b[0;34m()\u001b[0m\n\u001b[1;32m     30\u001b[0m         \u001b[0mcrimeVictim\u001b[0m\u001b[0;34m.\u001b[0m\u001b[0mappend\u001b[0m\u001b[0;34m(\u001b[0m\u001b[0md\u001b[0m\u001b[0;34m[\u001b[0m\u001b[0;34m'Questionnaires'\u001b[0m\u001b[0;34m]\u001b[0m\u001b[0;34m[\u001b[0m\u001b[0mi\u001b[0m\u001b[0;34m]\u001b[0m\u001b[0;34m[\u001b[0m\u001b[0;34m'Crime Victim '\u001b[0m\u001b[0;34m]\u001b[0m\u001b[0;34m)\u001b[0m\u001b[0;34m\u001b[0m\u001b[0m\n\u001b[1;32m     31\u001b[0m         \u001b[0mnoOfCriminal\u001b[0m\u001b[0;34m.\u001b[0m\u001b[0mappend\u001b[0m\u001b[0;34m(\u001b[0m\u001b[0md\u001b[0m\u001b[0;34m[\u001b[0m\u001b[0;34m'Questionnaires'\u001b[0m\u001b[0;34m]\u001b[0m\u001b[0;34m[\u001b[0m\u001b[0mi\u001b[0m\u001b[0;34m]\u001b[0m\u001b[0;34m[\u001b[0m\u001b[0;34m'No of Criminal'\u001b[0m\u001b[0;34m]\u001b[0m\u001b[0;34m)\u001b[0m\u001b[0;34m\u001b[0m\u001b[0m\n\u001b[0;32m---> 32\u001b[0;31m         \u001b[0mmsr\u001b[0m\u001b[0;34m.\u001b[0m\u001b[0mappend\u001b[0m\u001b[0;34m(\u001b[0m\u001b[0md\u001b[0m\u001b[0;34m[\u001b[0m\u001b[0;34m'Questionnaires'\u001b[0m\u001b[0;34m]\u001b[0m\u001b[0;34m[\u001b[0m\u001b[0mi\u001b[0m\u001b[0;34m]\u001b[0m\u001b[0;34m[\u001b[0m\u001b[0;34m'Mobile snaching Related'\u001b[0m\u001b[0;34m]\u001b[0m\u001b[0;34m)\u001b[0m\u001b[0;34m\u001b[0m\u001b[0m\n\u001b[0m\u001b[1;32m     33\u001b[0m         \u001b[0;32mif\u001b[0m\u001b[0;34m(\u001b[0m\u001b[0;34m'Criminal Vehicle'\u001b[0m \u001b[0;32min\u001b[0m \u001b[0md\u001b[0m\u001b[0;34m[\u001b[0m\u001b[0;34m'Questionnaires'\u001b[0m\u001b[0;34m]\u001b[0m\u001b[0;34m[\u001b[0m\u001b[0mi\u001b[0m\u001b[0;34m]\u001b[0m\u001b[0;34m)\u001b[0m\u001b[0;34m:\u001b[0m\u001b[0;34m\u001b[0m\u001b[0m\n\u001b[1;32m     34\u001b[0m             \u001b[0mcrimeVehicle\u001b[0m\u001b[0;34m.\u001b[0m\u001b[0mappend\u001b[0m\u001b[0;34m(\u001b[0m\u001b[0md\u001b[0m\u001b[0;34m[\u001b[0m\u001b[0;34m'Questionnaires'\u001b[0m\u001b[0;34m]\u001b[0m\u001b[0;34m[\u001b[0m\u001b[0mi\u001b[0m\u001b[0;34m]\u001b[0m\u001b[0;34m[\u001b[0m\u001b[0;34m'Criminal Vehicle'\u001b[0m\u001b[0;34m]\u001b[0m\u001b[0;34m)\u001b[0m\u001b[0;34m\u001b[0m\u001b[0m\n",
      "\u001b[0;31mKeyError\u001b[0m: 'Mobile snaching Related'"
     ]
    }
   ],
   "source": [
    "identificationOfVehicle = []\n",
    "crimeDate = []\n",
    "casualties = []\n",
    "crimeLng = []\n",
    "crimeLtd = []\n",
    "crimeLocation = []\n",
    "crimeTime = []\n",
    "crimeVictim = [] \n",
    "crimeVehicle = []\n",
    "noOfCriminal = []\n",
    "msr = []\n",
    "typeOfCrime = []\n",
    "Vsr =[]\n",
    "with open('dataset.json') as json_data:\n",
    "    d = json.load(json_data)\n",
    "    for i in d['Questionnaires']:\n",
    "        \n",
    "        identificationOfVehicle.append(d['Questionnaires'][i][' Any Identification of Vehicle'])\n",
    "        crimeDate.append(d['Questionnaires'][i]['Crime Date'])\n",
    "        casualties.append(d['Questionnaires'][i]['Casualties'])\n",
    "        if('Criminal Vehicle' in d['Questionnaires'][i]):\n",
    "            crimeLng.append(d['Questionnaires'][i]['Crime Location'][0])\n",
    "            crimeLtd.append(d['Questionnaires'][i]['Crime Location'][1])\n",
    "            crimeLocation.append(d['Questionnaires'][i]['Crime Location'][2])\n",
    "        else:\n",
    "            crimeLng.append(\"\")\n",
    "            crimeLtd.append(\"\")\n",
    "            crimeLocation.append(\"\")\n",
    "        crimeTime.append(d['Questionnaires'][i]['Crime Time'])\n",
    "        crimeVictim.append(d['Questionnaires'][i]['Crime Victim '])\n",
    "        noOfCriminal.append(d['Questionnaires'][i]['No of Criminal'])\n",
    "        if('Mobile snaching Related' in d['Questionnaires'][i]):\n",
    "            msr.append(d['Questionnaires'][i]['Mobile snaching Related'])\n",
    "        else:\n",
    "            msr.append(\"\")\n",
    "        \n",
    "        if('Criminal Vehicle' in d['Questionnaires'][i]):\n",
    "            crimeVehicle.append(d['Questionnaires'][i]['Criminal Vehicle'])\n",
    "        else:\n",
    "            crimeVehicle.append(\" \")\n",
    "        typeOfCrime.append(d['Questionnaires'][i]['Type Of Crime'])\n",
    "        if('Vehicle snaching Related' in d['Questionnaires'][i]):\n",
    "            Vsr.append(d['Questionnaires'][i]['Vehicle snaching Related'])\n",
    "        else:\n",
    "            Vsr.append(\"\")\n",
    "        \n",
    "        \n",
    "        \n",
    "        "
   ]
  },
  {
   "cell_type": "code",
   "execution_count": null,
   "metadata": {},
   "outputs": [],
   "source": []
  },
  {
   "cell_type": "code",
   "execution_count": null,
   "metadata": {},
   "outputs": [],
   "source": []
  }
 ],
 "metadata": {
  "kernelspec": {
   "display_name": "Python 3",
   "language": "python",
   "name": "python3"
  },
  "language_info": {
   "codemirror_mode": {
    "name": "ipython",
    "version": 3
   },
   "file_extension": ".py",
   "mimetype": "text/x-python",
   "name": "python",
   "nbconvert_exporter": "python",
   "pygments_lexer": "ipython3",
   "version": "3.6.3"
  }
 },
 "nbformat": 4,
 "nbformat_minor": 2
}
