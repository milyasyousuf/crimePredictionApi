{
 "cells": [
  {
   "cell_type": "code",
   "execution_count": 6,
   "metadata": {},
   "outputs": [
    {
     "name": "stdout",
     "output_type": "stream",
     "text": [
      "  identificationOfVehicle      crimeDate casualties            crimeLng  \\\n",
      "0                     NaN  28 : 7 : 2017         No  24.810707100000002   \n",
      "1                     NaN  27 : 7 : 2017         No  24.830757499999997   \n",
      "2                     NaN  29 : 7 : 2017         No  24.830972499999994   \n",
      "3                     NaN  20 : 7 : 2017        Yes  24.831952499999993   \n",
      "4                     NaN   1 : 8 : 2017         No   24.80208249999999   \n",
      "\n",
      "            crimeLtd                                      crimeLocation  \\\n",
      "0         67.0689859                                  Karachi, Pakistan   \n",
      "1  67.06465234375001             4th Sunset St, Karachi 75500, Pakistan   \n",
      "2  67.06918359375003  C-31C 24th Commercial St, Karachi 75500, Pakistan   \n",
      "3  67.07371484375004      Khayban-e-Ittehad Rd, Karachi 75500, Pakistan   \n",
      "4  67.03008984375002      Harbour Front, Sea View Rd, Karachi, Pakistan   \n",
      "\n",
      "     crimeVictim crimeVehicle noOfCriminal       typeOfCrime  Vsr  \n",
      "0    your friend         bike            2  Mobile snatching  NaN  \n",
      "1            you         bike            2  Mobile snatching  NaN  \n",
      "2    your friend         bike            2  Mobile snatching  NaN  \n",
      "3       stranger               more than 3           Robbery  NaN  \n",
      "4  your relative         bike            3        Kidnapping  NaN  \n"
     ]
    }
   ],
   "source": [
    "import pandas as pd\n",
    "def analysis():\n",
    "    df = pd.read_csv(\"final.csv\",index_col=0)\n",
    "    print(df.head())\n",
    "    df.describe()\n",
    "\n",
    "\n",
    "\n",
    "analysis()\n"
   ]
  },
  {
   "cell_type": "code",
   "execution_count": null,
   "metadata": {},
   "outputs": [],
   "source": []
  }
 ],
 "metadata": {
  "kernelspec": {
   "display_name": "Python 3",
   "language": "python",
   "name": "python3"
  },
  "language_info": {
   "codemirror_mode": {
    "name": "ipython",
    "version": 3
   },
   "file_extension": ".py",
   "mimetype": "text/x-python",
   "name": "python",
   "nbconvert_exporter": "python",
   "pygments_lexer": "ipython3",
   "version": "3.6.3"
  }
 },
 "nbformat": 4,
 "nbformat_minor": 2
}
